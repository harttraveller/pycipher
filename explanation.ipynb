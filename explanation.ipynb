{
 "cells": [
  {
   "cell_type": "markdown",
   "metadata": {},
   "source": [
    "# Algorithm example use"
   ]
  },
  {
   "cell_type": "code",
   "execution_count": 447,
   "metadata": {},
   "outputs": [],
   "source": [
    "from encryption import *"
   ]
  },
  {
   "cell_type": "code",
   "execution_count": 450,
   "metadata": {},
   "outputs": [],
   "source": [
    "# Instantiating cipher with an initial random seed of 100 and 10 layers of obfuscation\n",
    "cipher = Encryption(100,10)"
   ]
  },
  {
   "cell_type": "code",
   "execution_count": 454,
   "metadata": {},
   "outputs": [],
   "source": [
    "text = \"This is the text I want to encrypt!\""
   ]
  },
  {
   "cell_type": "code",
   "execution_count": 455,
   "metadata": {},
   "outputs": [
    {
     "data": {
      "text/plain": [
       "'bxqSyv0s7L6?6oyO?w qePeYZnNDdcpTfK0'"
      ]
     },
     "execution_count": 455,
     "metadata": {},
     "output_type": "execute_result"
    }
   ],
   "source": [
    "encoded_text = cipher.encode(text)\n",
    "encoded_text"
   ]
  },
  {
   "cell_type": "code",
   "execution_count": 456,
   "metadata": {},
   "outputs": [
    {
     "data": {
      "text/plain": [
       "'This is the text I want to encrypt!'"
      ]
     },
     "execution_count": 456,
     "metadata": {},
     "output_type": "execute_result"
    }
   ],
   "source": [
    "cipher.decode(encoded_text)"
   ]
  },
  {
   "cell_type": "markdown",
   "metadata": {},
   "source": [
    "Here is an example of the obfuscation of repeating characters"
   ]
  },
  {
   "cell_type": "code",
   "execution_count": 457,
   "metadata": {},
   "outputs": [],
   "source": [
    "text = \"aaaa bbbb cccc dddd eeee\""
   ]
  },
  {
   "cell_type": "code",
   "execution_count": 460,
   "metadata": {},
   "outputs": [
    {
     "data": {
      "text/plain": [
       "'kmyKywl6rtJoe3K7dZGZVB6l'"
      ]
     },
     "execution_count": 460,
     "metadata": {},
     "output_type": "execute_result"
    }
   ],
   "source": [
    "encoded_text = cipher.encode(text)\n",
    "encoded_text"
   ]
  },
  {
   "cell_type": "markdown",
   "metadata": {},
   "source": [
    "As you can see the encoded text bears absolutely no resemblance to the original text"
   ]
  },
  {
   "cell_type": "code",
   "execution_count": 461,
   "metadata": {},
   "outputs": [
    {
     "data": {
      "text/plain": [
       "'aaaa bbbb cccc dddd eeee'"
      ]
     },
     "execution_count": 461,
     "metadata": {},
     "output_type": "execute_result"
    }
   ],
   "source": [
    "cipher.decode(encoded_text)"
   ]
  },
  {
   "cell_type": "markdown",
   "metadata": {},
   "source": [
    "But can still be easily decoded"
   ]
  },
  {
   "cell_type": "markdown",
   "metadata": {},
   "source": [
    "# Algorithm documentation\n",
    "\n",
    "It's worth reading through this in order to get an understanding of how the algorithm works. Explanations are included as comments."
   ]
  },
  {
   "cell_type": "code",
   "execution_count": 462,
   "metadata": {},
   "outputs": [],
   "source": [
    "# Necessary dependency\n",
    "import random\n",
    "# Name of class\n",
    "class Encryption(object):\n",
    "    # Initialization function\n",
    "    def __init__(self,key_seed,layers):\n",
    "        # Setting the random seed for key generation\n",
    "        self.key_seed = key_seed\n",
    "        # All of the potential characters to be used in input string and key\n",
    "        self.alphabet = list(\"\"\"ABCDEFGHIJKLMNOPQRSTUVWXYZabcdefghijklmnopqrstuvwxyz 1234567890!?.,\"\"\")\n",
    "        # Right now the key is nothing\n",
    "        self.key = None\n",
    "        # The number of layers represent the number of occurences of recursive obfuscation\n",
    "        # Can be seen as a secondary key\n",
    "        self.layers = layers\n",
    "        # Temporary variable to hold text\n",
    "        self.iterText = None\n",
    "        # Encryption dictionary\n",
    "        self.encrypt = {}\n",
    "        # Decryption dictionary\n",
    "        self.decrypt = {}\n",
    "\n",
    "    # Function to generate keys randomly based off of the random seed, used in an iterative manner\n",
    "    def __iterGenKey(self,key_seed):\n",
    "        # first we create a temporary key - which is a copy of the alphabet set in the init function\n",
    "        key = self.alphabet.copy()\n",
    "        # then we randomize that temporary key based on the key seed passed in in this function specifically\n",
    "        # the key seed is dynamic throughout this program\n",
    "        random.Random(key_seed).shuffle(key)\n",
    "        # then we set the key to self.key\n",
    "        self.key = key\n",
    "        # then we set the encryption and decryption dictionaries to use to encrypt and decrypt themessage\n",
    "        for i in range(len(self.alphabet)):\n",
    "            self.encrypt[self.alphabet[i]] = self.key[i]\n",
    "        for i in range(len(self.alphabet)):\n",
    "            self.decrypt[self.key[i]] = self.alphabet[i]\n",
    "\n",
    "    # this function takes in some text, and encodes it based on the information in the encryption dictionary\n",
    "    # think of a randomized ceasars cipher\n",
    "    def __iterEncode(self,text):\n",
    "        text = list(text)\n",
    "        encoded_text = []\n",
    "        for i in text:\n",
    "            encoded_text.append(self.encrypt[i])\n",
    "        return ''.join(encoded_text)\n",
    "\n",
    "    # this function takes in some text, and decodes it based on the information in the decryption dictionary\n",
    "    # again - it is similar to a randomized ceasar cipher\n",
    "    def __iterDecode(self,text):\n",
    "        text = list(text)\n",
    "        decoded_text = []\n",
    "        for i in text:\n",
    "            decoded_text.append(self.decrypt[i])\n",
    "        return ''.join(decoded_text)\n",
    "    \n",
    "    # this function takes in text, and for every single character in the text, generates a new random key\n",
    "    # and places that new letter in a new list which is then joined to a string\n",
    "    def __charEncode(self,text):\n",
    "        self.iterText = text\n",
    "        hypertext = []\n",
    "        for j in list(range(len(self.iterText))):\n",
    "            self.__iterGenKey(self.key_seed*j*self.key_seed)\n",
    "            print(''.join(self.key))\n",
    "            print()\n",
    "            hypertext.append(self.__iterEncode(self.iterText[j]))\n",
    "        return \"\".join(hypertext)\n",
    "\n",
    "    # This function reverses the process from the last function\n",
    "    def __charDecode(self,text):\n",
    "        self.iterText = text\n",
    "        hypertext = []\n",
    "        for j in list(range(len(self.iterText)))[::-1]:\n",
    "            self.__iterGenKey(self.key_seed*j*self.key_seed)\n",
    "            #print(self.key)\n",
    "            #print()\n",
    "            hypertext.insert(0,self.__iterDecode(self.iterText[j]))\n",
    "        return \"\".join(hypertext)\n",
    "    \n",
    "    # This function obfuscates the encrypted text by iteratively repeating the entire process up to this point\n",
    "    # to the number of layers specified\n",
    "    def encode(self,text):\n",
    "        self.iterText = text\n",
    "        for i in range(self.layers):\n",
    "            self.iterText = self.__charEncode(self.iterText)\n",
    "        return self.iterText\n",
    "    \n",
    "    # This function un-obfuscates the process by iteratively repeating the entire process up to this point in reverse\n",
    "    def decode(self,text):\n",
    "        self.iterText = text\n",
    "        for i in range(self.layers):\n",
    "            self.iterText = self.__charDecode(self.iterText)\n",
    "        return self.iterText\n",
    "\n",
    "# Essentially what this class does, is take in text, generate a totally random key (based on random seed), that varies\n",
    "# for each letter. It then does this whole process for the encrypted text repeatedly through as many layers as you want.\n",
    "# Do decrypt the text is simply to reverse the process."
   ]
  },
  {
   "cell_type": "markdown",
   "metadata": {},
   "source": [
    "By placing a print statement in the __charEncode function we can look at each of the individual keys generated\n",
    "\n",
    "The number of keys generated will be the number of layers times the number of characters in the text you want to encrypt"
   ]
  },
  {
   "cell_type": "code",
   "execution_count": 469,
   "metadata": {},
   "outputs": [
    {
     "name": "stdout",
     "output_type": "stream",
     "text": [
      "wk HqYcXp7!z?LDKadMCA5BvsOPRr8oUb4tj2VEu3JmiQnG,SI0NlWeT.y6Zfg9hF1x\n",
      "\n",
      "ved9w!fnb JqXjcCiWS?5MtINs1,.Z8a42FHKh7R0lVuOyBT6YkrGLUgzQA3oxpDPEm\n",
      "\n",
      " Wu!8DFZj4RKBVfs0mEa7zYpINCTMGrcghUQxLi,.Sl5teAoqO2bd1XnHw6P?9Jykv3\n",
      "\n",
      "a3izQYP1FWeJj4lwArtxSoUCsqmbNLygnk07p5?Xf.hIu2cR,H!8vKETdVG6 BOM9DZ\n",
      "\n",
      "0py8ScVYB6lq57JkuWC.PIhstwg3Hv?zrbmRM1aTi!eOf9DL2NKQG4onZ ,FAdUEjXx\n",
      "\n",
      "m9CvraBhD5PKZYNjLlpo41WRzEUceA3.xu?HMJ7IsQf,0qVFtwdgy2bOTniSk!8 XG6\n",
      "\n",
      "j9ad,y34JxAU2qO0pe7m5nFwtboYLuT.C!f6Ez8 lIgkrvPNiMcBRDSVGsQXKWhHZ?1\n",
      "\n",
      "wk HqYcXp7!z?LDKadMCA5BvsOPRr8oUb4tj2VEu3JmiQnG,SI0NlWeT.y6Zfg9hF1x\n",
      "\n",
      "ved9w!fnb JqXjcCiWS?5MtINs1,.Z8a42FHKh7R0lVuOyBT6YkrGLUgzQA3oxpDPEm\n",
      "\n",
      " Wu!8DFZj4RKBVfs0mEa7zYpINCTMGrcghUQxLi,.Sl5teAoqO2bd1XnHw6P?9Jykv3\n",
      "\n",
      "a3izQYP1FWeJj4lwArtxSoUCsqmbNLygnk07p5?Xf.hIu2cR,H!8vKETdVG6 BOM9DZ\n",
      "\n",
      "0py8ScVYB6lq57JkuWC.PIhstwg3Hv?zrbmRM1aTi!eOf9DL2NKQG4onZ ,FAdUEjXx\n",
      "\n",
      "m9CvraBhD5PKZYNjLlpo41WRzEUceA3.xu?HMJ7IsQf,0qVFtwdgy2bOTniSk!8 XG6\n",
      "\n",
      "j9ad,y34JxAU2qO0pe7m5nFwtboYLuT.C!f6Ez8 lIgkrvPNiMcBRDSVGsQXKWhHZ?1\n",
      "\n"
     ]
    }
   ],
   "source": [
    "text = \"Example\"\n",
    "cipher = Encryption(100,2)\n",
    "et = cipher.encode(text)\n",
    "# Each of the below keys represents a single character, on a single layer of obfuscation"
   ]
  },
  {
   "cell_type": "code",
   "execution_count": null,
   "metadata": {},
   "outputs": [],
   "source": []
  }
 ],
 "metadata": {
  "kernelspec": {
   "display_name": "Python 3",
   "language": "python",
   "name": "python3"
  },
  "language_info": {
   "codemirror_mode": {
    "name": "ipython",
    "version": 3
   },
   "file_extension": ".py",
   "mimetype": "text/x-python",
   "name": "python",
   "nbconvert_exporter": "python",
   "pygments_lexer": "ipython3",
   "version": "3.7.3"
  }
 },
 "nbformat": 4,
 "nbformat_minor": 2
}
